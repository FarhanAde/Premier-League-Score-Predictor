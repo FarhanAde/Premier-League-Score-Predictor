{
 "cells": [
  {
   "cell_type": "code",
   "execution_count": null,
   "id": "9223026b",
   "metadata": {},
   "outputs": [
    {
     "name": "stdout",
     "output_type": "stream",
     "text": [
      "Epoch 1/50\n",
      "\u001b[1m14/14\u001b[0m \u001b[32m━━━━━━━━━━━━━━━━━━━━\u001b[0m\u001b[37m\u001b[0m \u001b[1m2s\u001b[0m 35ms/step - accuracy: 0.4509 - loss: 1.0650 - val_accuracy: 0.4286 - val_loss: 1.0638\n",
      "Epoch 2/50\n",
      "\u001b[1m14/14\u001b[0m \u001b[32m━━━━━━━━━━━━━━━━━━━━\u001b[0m\u001b[37m\u001b[0m \u001b[1m0s\u001b[0m 12ms/step - accuracy: 0.4733 - loss: 1.0496 - val_accuracy: 0.4333 - val_loss: 1.0625\n",
      "Epoch 3/50\n",
      "\u001b[1m14/14\u001b[0m \u001b[32m━━━━━━━━━━━━━━━━━━━━\u001b[0m\u001b[37m\u001b[0m \u001b[1m0s\u001b[0m 11ms/step - accuracy: 0.4549 - loss: 1.0377 - val_accuracy: 0.4286 - val_loss: 1.0663\n",
      "Epoch 4/50\n",
      "\u001b[1m14/14\u001b[0m \u001b[32m━━━━━━━━━━━━━━━━━━━━\u001b[0m\u001b[37m\u001b[0m \u001b[1m0s\u001b[0m 11ms/step - accuracy: 0.5085 - loss: 1.0131 - val_accuracy: 0.4333 - val_loss: 1.0575\n",
      "Epoch 5/50\n",
      "\u001b[1m14/14\u001b[0m \u001b[32m━━━━━━━━━━━━━━━━━━━━\u001b[0m\u001b[37m\u001b[0m \u001b[1m0s\u001b[0m 11ms/step - accuracy: 0.5166 - loss: 1.0039 - val_accuracy: 0.4810 - val_loss: 1.0462\n",
      "Epoch 6/50\n",
      "\u001b[1m14/14\u001b[0m \u001b[32m━━━━━━━━━━━━━━━━━━━━\u001b[0m\u001b[37m\u001b[0m \u001b[1m0s\u001b[0m 11ms/step - accuracy: 0.5100 - loss: 1.0033 - val_accuracy: 0.4667 - val_loss: 1.0482\n",
      "Epoch 7/50\n",
      "\u001b[1m14/14\u001b[0m \u001b[32m━━━━━━━━━━━━━━━━━━━━\u001b[0m\u001b[37m\u001b[0m \u001b[1m0s\u001b[0m 11ms/step - accuracy: 0.5399 - loss: 0.9893 - val_accuracy: 0.4857 - val_loss: 1.0485\n",
      "Epoch 8/50\n",
      "\u001b[1m14/14\u001b[0m \u001b[32m━━━━━━━━━━━━━━━━━━━━\u001b[0m\u001b[37m\u001b[0m \u001b[1m0s\u001b[0m 11ms/step - accuracy: 0.5563 - loss: 0.9614 - val_accuracy: 0.4524 - val_loss: 1.0456\n",
      "Epoch 9/50\n",
      "\u001b[1m14/14\u001b[0m \u001b[32m━━━━━━━━━━━━━━━━━━━━\u001b[0m\u001b[37m\u001b[0m \u001b[1m0s\u001b[0m 10ms/step - accuracy: 0.5417 - loss: 0.9618 - val_accuracy: 0.4857 - val_loss: 1.0475\n",
      "Epoch 10/50\n",
      "\u001b[1m14/14\u001b[0m \u001b[32m━━━━━━━━━━━━━━━━━━━━\u001b[0m\u001b[37m\u001b[0m \u001b[1m0s\u001b[0m 11ms/step - accuracy: 0.5729 - loss: 0.9476 - val_accuracy: 0.4762 - val_loss: 1.0392\n",
      "Epoch 11/50\n",
      "\u001b[1m14/14\u001b[0m \u001b[32m━━━━━━━━━━━━━━━━━━━━\u001b[0m\u001b[37m\u001b[0m \u001b[1m0s\u001b[0m 11ms/step - accuracy: 0.5386 - loss: 0.9557 - val_accuracy: 0.4619 - val_loss: 1.0590\n",
      "Epoch 12/50\n",
      "\u001b[1m14/14\u001b[0m \u001b[32m━━━━━━━━━━━━━━━━━━━━\u001b[0m\u001b[37m\u001b[0m \u001b[1m0s\u001b[0m 11ms/step - accuracy: 0.5448 - loss: 0.9585 - val_accuracy: 0.4571 - val_loss: 1.0535\n",
      "Epoch 13/50\n",
      "\u001b[1m14/14\u001b[0m \u001b[32m━━━━━━━━━━━━━━━━━━━━\u001b[0m\u001b[37m\u001b[0m \u001b[1m0s\u001b[0m 12ms/step - accuracy: 0.5546 - loss: 0.9514 - val_accuracy: 0.4619 - val_loss: 1.0579\n",
      "Epoch 14/50\n",
      "\u001b[1m14/14\u001b[0m \u001b[32m━━━━━━━━━━━━━━━━━━━━\u001b[0m\u001b[37m\u001b[0m \u001b[1m0s\u001b[0m 11ms/step - accuracy: 0.5857 - loss: 0.9340 - val_accuracy: 0.4667 - val_loss: 1.0503\n",
      "Epoch 15/50\n",
      "\u001b[1m14/14\u001b[0m \u001b[32m━━━━━━━━━━━━━━━━━━━━\u001b[0m\u001b[37m\u001b[0m \u001b[1m0s\u001b[0m 11ms/step - accuracy: 0.5587 - loss: 0.9398 - val_accuracy: 0.4714 - val_loss: 1.0644\n",
      "Epoch 16/50\n",
      "\u001b[1m14/14\u001b[0m \u001b[32m━━━━━━━━━━━━━━━━━━━━\u001b[0m\u001b[37m\u001b[0m \u001b[1m0s\u001b[0m 10ms/step - accuracy: 0.6051 - loss: 0.9183 - val_accuracy: 0.4714 - val_loss: 1.0487\n",
      "Epoch 17/50\n",
      "\u001b[1m14/14\u001b[0m \u001b[32m━━━━━━━━━━━━━━━━━━━━\u001b[0m\u001b[37m\u001b[0m \u001b[1m0s\u001b[0m 10ms/step - accuracy: 0.5506 - loss: 0.9466 - val_accuracy: 0.4810 - val_loss: 1.0600\n",
      "Epoch 18/50\n",
      "\u001b[1m14/14\u001b[0m \u001b[32m━━━━━━━━━━━━━━━━━━━━\u001b[0m\u001b[37m\u001b[0m \u001b[1m0s\u001b[0m 11ms/step - accuracy: 0.5588 - loss: 0.9486 - val_accuracy: 0.4905 - val_loss: 1.0551\n",
      "Epoch 19/50\n",
      "\u001b[1m14/14\u001b[0m \u001b[32m━━━━━━━━━━━━━━━━━━━━\u001b[0m\u001b[37m\u001b[0m \u001b[1m0s\u001b[0m 10ms/step - accuracy: 0.5889 - loss: 0.9187 - val_accuracy: 0.4524 - val_loss: 1.0648\n",
      "Epoch 20/50\n",
      "\u001b[1m14/14\u001b[0m \u001b[32m━━━━━━━━━━━━━━━━━━━━\u001b[0m\u001b[37m\u001b[0m \u001b[1m0s\u001b[0m 10ms/step - accuracy: 0.5822 - loss: 0.9038 - val_accuracy: 0.4810 - val_loss: 1.0654\n",
      "Epoch 21/50\n",
      "\u001b[1m14/14\u001b[0m \u001b[32m━━━━━━━━━━━━━━━━━━━━\u001b[0m\u001b[37m\u001b[0m \u001b[1m0s\u001b[0m 11ms/step - accuracy: 0.5747 - loss: 0.9148 - val_accuracy: 0.5000 - val_loss: 1.0623\n",
      "Epoch 22/50\n",
      "\u001b[1m14/14\u001b[0m \u001b[32m━━━━━━━━━━━━━━━━━━━━\u001b[0m\u001b[37m\u001b[0m \u001b[1m0s\u001b[0m 11ms/step - accuracy: 0.5659 - loss: 0.9155 - val_accuracy: 0.4952 - val_loss: 1.0669\n",
      "Epoch 23/50\n",
      "\u001b[1m14/14\u001b[0m \u001b[32m━━━━━━━━━━━━━━━━━━━━\u001b[0m\u001b[37m\u001b[0m \u001b[1m0s\u001b[0m 11ms/step - accuracy: 0.5882 - loss: 0.9168 - val_accuracy: 0.4857 - val_loss: 1.0753\n",
      "Epoch 24/50\n",
      "\u001b[1m14/14\u001b[0m \u001b[32m━━━━━━━━━━━━━━━━━━━━\u001b[0m\u001b[37m\u001b[0m \u001b[1m0s\u001b[0m 10ms/step - accuracy: 0.5744 - loss: 0.9324 - val_accuracy: 0.4810 - val_loss: 1.0915\n",
      "Epoch 25/50\n",
      "\u001b[1m14/14\u001b[0m \u001b[32m━━━━━━━━━━━━━━━━━━━━\u001b[0m\u001b[37m\u001b[0m \u001b[1m0s\u001b[0m 12ms/step - accuracy: 0.5875 - loss: 0.8960 - val_accuracy: 0.4524 - val_loss: 1.0824\n",
      "Epoch 26/50\n",
      "\u001b[1m14/14\u001b[0m \u001b[32m━━━━━━━━━━━━━━━━━━━━\u001b[0m\u001b[37m\u001b[0m \u001b[1m0s\u001b[0m 11ms/step - accuracy: 0.5895 - loss: 0.8989 - val_accuracy: 0.4619 - val_loss: 1.0700\n",
      "Epoch 27/50\n",
      "\u001b[1m14/14\u001b[0m \u001b[32m━━━━━━━━━━━━━━━━━━━━\u001b[0m\u001b[37m\u001b[0m \u001b[1m0s\u001b[0m 11ms/step - accuracy: 0.5841 - loss: 0.9085 - val_accuracy: 0.4857 - val_loss: 1.0832\n",
      "Epoch 28/50\n",
      "\u001b[1m14/14\u001b[0m \u001b[32m━━━━━━━━━━━━━━━━━━━━\u001b[0m\u001b[37m\u001b[0m \u001b[1m0s\u001b[0m 11ms/step - accuracy: 0.5755 - loss: 0.9213 - val_accuracy: 0.4905 - val_loss: 1.0834\n",
      "Epoch 29/50\n",
      "\u001b[1m14/14\u001b[0m \u001b[32m━━━━━━━━━━━━━━━━━━━━\u001b[0m\u001b[37m\u001b[0m \u001b[1m0s\u001b[0m 11ms/step - accuracy: 0.5785 - loss: 0.9090 - val_accuracy: 0.5000 - val_loss: 1.0547\n",
      "Epoch 30/50\n",
      "\u001b[1m14/14\u001b[0m \u001b[32m━━━━━━━━━━━━━━━━━━━━\u001b[0m\u001b[37m\u001b[0m \u001b[1m0s\u001b[0m 11ms/step - accuracy: 0.6006 - loss: 0.8752 - val_accuracy: 0.5000 - val_loss: 1.0795\n",
      "Epoch 31/50\n",
      "\u001b[1m14/14\u001b[0m \u001b[32m━━━━━━━━━━━━━━━━━━━━\u001b[0m\u001b[37m\u001b[0m \u001b[1m0s\u001b[0m 11ms/step - accuracy: 0.5911 - loss: 0.8930 - val_accuracy: 0.5095 - val_loss: 1.0643\n",
      "Epoch 32/50\n",
      "\u001b[1m14/14\u001b[0m \u001b[32m━━━━━━━━━━━━━━━━━━━━\u001b[0m\u001b[37m\u001b[0m \u001b[1m0s\u001b[0m 11ms/step - accuracy: 0.6154 - loss: 0.8781 - val_accuracy: 0.5000 - val_loss: 1.1075\n",
      "Epoch 33/50\n",
      "\u001b[1m14/14\u001b[0m \u001b[32m━━━━━━━━━━━━━━━━━━━━\u001b[0m\u001b[37m\u001b[0m \u001b[1m0s\u001b[0m 11ms/step - accuracy: 0.5828 - loss: 0.8929 - val_accuracy: 0.4810 - val_loss: 1.0794\n",
      "Epoch 34/50\n",
      "\u001b[1m14/14\u001b[0m \u001b[32m━━━━━━━━━━━━━━━━━━━━\u001b[0m\u001b[37m\u001b[0m \u001b[1m0s\u001b[0m 11ms/step - accuracy: 0.6140 - loss: 0.8701 - val_accuracy: 0.5000 - val_loss: 1.0789\n",
      "Epoch 35/50\n",
      "\u001b[1m14/14\u001b[0m \u001b[32m━━━━━━━━━━━━━━━━━━━━\u001b[0m\u001b[37m\u001b[0m \u001b[1m0s\u001b[0m 13ms/step - accuracy: 0.6338 - loss: 0.8369 - val_accuracy: 0.4810 - val_loss: 1.0741\n",
      "Epoch 36/50\n",
      "\u001b[1m14/14\u001b[0m \u001b[32m━━━━━━━━━━━━━━━━━━━━\u001b[0m\u001b[37m\u001b[0m \u001b[1m0s\u001b[0m 12ms/step - accuracy: 0.6204 - loss: 0.8791 - val_accuracy: 0.4952 - val_loss: 1.0833\n",
      "Epoch 37/50\n",
      "\u001b[1m14/14\u001b[0m \u001b[32m━━━━━━━━━━━━━━━━━━━━\u001b[0m\u001b[37m\u001b[0m \u001b[1m0s\u001b[0m 10ms/step - accuracy: 0.6093 - loss: 0.8694 - val_accuracy: 0.4857 - val_loss: 1.0686\n",
      "Epoch 38/50\n",
      "\u001b[1m14/14\u001b[0m \u001b[32m━━━━━━━━━━━━━━━━━━━━\u001b[0m\u001b[37m\u001b[0m \u001b[1m0s\u001b[0m 10ms/step - accuracy: 0.6382 - loss: 0.8569 - val_accuracy: 0.4857 - val_loss: 1.0907\n",
      "Epoch 39/50\n",
      "\u001b[1m14/14\u001b[0m \u001b[32m━━━━━━━━━━━━━━━━━━━━\u001b[0m\u001b[37m\u001b[0m \u001b[1m0s\u001b[0m 11ms/step - accuracy: 0.6179 - loss: 0.8567 - val_accuracy: 0.5048 - val_loss: 1.1092\n",
      "Epoch 40/50\n",
      "\u001b[1m14/14\u001b[0m \u001b[32m━━━━━━━━━━━━━━━━━━━━\u001b[0m\u001b[37m\u001b[0m \u001b[1m0s\u001b[0m 10ms/step - accuracy: 0.5963 - loss: 0.8768 - val_accuracy: 0.5095 - val_loss: 1.0879\n",
      "Epoch 41/50\n",
      "\u001b[1m14/14\u001b[0m \u001b[32m━━━━━━━━━━━━━━━━━━━━\u001b[0m\u001b[37m\u001b[0m \u001b[1m0s\u001b[0m 11ms/step - accuracy: 0.5994 - loss: 0.8700 - val_accuracy: 0.4762 - val_loss: 1.0977\n",
      "Epoch 42/50\n",
      "\u001b[1m14/14\u001b[0m \u001b[32m━━━━━━━━━━━━━━━━━━━━\u001b[0m\u001b[37m\u001b[0m \u001b[1m0s\u001b[0m 11ms/step - accuracy: 0.6172 - loss: 0.8546 - val_accuracy: 0.5095 - val_loss: 1.0854\n",
      "Epoch 43/50\n",
      "\u001b[1m14/14\u001b[0m \u001b[32m━━━━━━━━━━━━━━━━━━━━\u001b[0m\u001b[37m\u001b[0m \u001b[1m0s\u001b[0m 10ms/step - accuracy: 0.6255 - loss: 0.8397 - val_accuracy: 0.4857 - val_loss: 1.1072\n",
      "Epoch 44/50\n",
      "\u001b[1m14/14\u001b[0m \u001b[32m━━━━━━━━━━━━━━━━━━━━\u001b[0m\u001b[37m\u001b[0m \u001b[1m0s\u001b[0m 10ms/step - accuracy: 0.6182 - loss: 0.8376 - val_accuracy: 0.4810 - val_loss: 1.0936\n",
      "Epoch 45/50\n",
      "\u001b[1m14/14\u001b[0m \u001b[32m━━━━━━━━━━━━━━━━━━━━\u001b[0m\u001b[37m\u001b[0m \u001b[1m0s\u001b[0m 10ms/step - accuracy: 0.6368 - loss: 0.8424 - val_accuracy: 0.5048 - val_loss: 1.1184\n",
      "Epoch 46/50\n",
      "\u001b[1m14/14\u001b[0m \u001b[32m━━━━━━━━━━━━━━━━━━━━\u001b[0m\u001b[37m\u001b[0m \u001b[1m0s\u001b[0m 10ms/step - accuracy: 0.6235 - loss: 0.8401 - val_accuracy: 0.4619 - val_loss: 1.1038\n",
      "Epoch 47/50\n",
      "\u001b[1m14/14\u001b[0m \u001b[32m━━━━━━━━━━━━━━━━━━━━\u001b[0m\u001b[37m\u001b[0m \u001b[1m0s\u001b[0m 10ms/step - accuracy: 0.6174 - loss: 0.8563 - val_accuracy: 0.4905 - val_loss: 1.0942\n",
      "Epoch 48/50\n",
      "\u001b[1m14/14\u001b[0m \u001b[32m━━━━━━━━━━━━━━━━━━━━\u001b[0m\u001b[37m\u001b[0m \u001b[1m0s\u001b[0m 10ms/step - accuracy: 0.6454 - loss: 0.8127 - val_accuracy: 0.5048 - val_loss: 1.1097\n",
      "Epoch 49/50\n",
      "\u001b[1m14/14\u001b[0m \u001b[32m━━━━━━━━━━━━━━━━━━━━\u001b[0m\u001b[37m\u001b[0m \u001b[1m0s\u001b[0m 10ms/step - accuracy: 0.6282 - loss: 0.8322 - val_accuracy: 0.4714 - val_loss: 1.1181\n",
      "Epoch 50/50\n",
      "\u001b[1m14/14\u001b[0m \u001b[32m━━━━━━━━━━━━━━━━━━━━\u001b[0m\u001b[37m\u001b[0m \u001b[1m0s\u001b[0m 10ms/step - accuracy: 0.6473 - loss: 0.8066 - val_accuracy: 0.4857 - val_loss: 1.1100\n",
      "WARNING:tensorflow:5 out of the last 15 calls to <function TensorFlowTrainer.make_predict_function.<locals>.one_step_on_data_distributed at 0x000002642280C4A0> triggered tf.function retracing. Tracing is expensive and the excessive number of tracings could be due to (1) creating @tf.function repeatedly in a loop, (2) passing tensors with different shapes, (3) passing Python objects instead of tensors. For (1), please define your @tf.function outside of the loop. For (2), @tf.function has reduce_retracing=True option that can avoid unnecessary retracing. For (3), please refer to https://www.tensorflow.org/guide/function#controlling_retracing and https://www.tensorflow.org/api_docs/python/tf/function for  more details.\n",
      "\u001b[1m7/7\u001b[0m \u001b[32m━━━━━━━━━━━━━━━━━━━━\u001b[0m\u001b[37m\u001b[0m \u001b[1m0s\u001b[0m 12ms/step\n",
      "Accuracy: 0.4857142857142857\n"
     ]
    },
    {
     "data": {
      "image/png": "[encoded data removed]",
      "text/plain": [
       "<Figure size 640x480 with 1 Axes>"
      ]
     },
     "metadata": {},
     "output_type": "display_data"
    }
   ],
   "source": [
    "import pandas as pd\n",
    "import numpy as np\n",
    "import matplotlib.pyplot as plt\n",
    "import seaborn as sns\n",
    "import keras\n",
    "import tensorflow as tf\n",
    "from sklearn.preprocessing import LabelEncoder, MinMaxScaler\n",
    "from sklearn.model_selection import train_test_split\n",
    "from sklearn.metrics import accuracy_score\n",
    "\n",
    "matchData = pd.read_csv(\"PremierLeagueMatches_updated.csv\").dropna(subset=[\"Result\"]).drop(columns=[\"Date\", \"*Additional Stats\", \"Attendance\"])\n",
    "\n",
    "# Select features and target and train the model\n",
    "X = matchData.drop(columns=[\"homeScore\",\"homeXG\",\"awayScore\",\"awayXG\",\"Result\"])\n",
    "y = matchData[\"Result\"]\n",
    "\n",
    "# Encode the target feature\n",
    "resultEncoder = LabelEncoder()\n",
    "y_encoded = resultEncoder.fit_transform(y)\n",
    "resultMapping = dict(zip(resultEncoder.classes_, range(len(resultEncoder.classes_))))\n",
    "\n",
    "# Define qualitative features\n",
    "qualCols = [\"Time\", \"Home Team\", \"Away Team\", \"Referee\", \"Stadium\"]\n",
    "qualColEncoders = {}\n",
    "\n",
    "for feature in qualCols:\n",
    "    newLabelEncoder = LabelEncoder()\n",
    "    qualColEncoders[feature] = newLabelEncoder\n",
    "    X[feature] = newLabelEncoder.fit_transform(X[feature])\n",
    "\n",
    "# Train-test split\n",
    "X_train, X_test, y_train, y_test = train_test_split(X, y_encoded, test_size=0.2, random_state=42)\n",
    "\n",
    "# Scaling\n",
    "scaler = MinMaxScaler()\n",
    "X_train_scaled = scaler.fit_transform(X_train)\n",
    "X_test_scaled = scaler.transform(X_test)\n",
    "\n",
    "# Define neural network\n",
    "model = keras.Sequential([\n",
    "    keras.layers.Input(shape = (X_train_scaled.shape[1],)),\n",
    "    keras.layers.Dense(512, activation=\"relu\"),\n",
    "    keras.layers.Dense(216, activation=\"relu\"),\n",
    "    keras.layers.Dense(len(resultMapping), activation=\"softmax\")\n",
    "])\n",
    "\n",
    "# Huber Loss\n",
    "huberLoss = tf.keras.losses.Huber(delta=1.0)\n",
    "model.compile(optimizer=\"adam\", loss=\"sparse_categorical_crossentropy\", metrics=[\"accuracy\"])\n",
    "\n",
    "# Train the model\n",
    "model.fit(X_train_scaled, y_train, epochs=50, batch_size=64, validation_data=(X_test_scaled, y_test))\n",
    "\n",
    "modelLosses = pd.DataFrame(model.history.history)\n",
    "modelLosses.plot()\n",
    "\n",
    "# Evaluaing the model\n",
    "predictions = model.predict(X_test_scaled)\n",
    "predictions_class_labels = np.argmax(predictions, axis=1)\n",
    "print(f\"Accuracy: {accuracy_score(y_test, predictions_class_labels)}\")\n"
   ]
  },
  {
   "cell_type": "code",
   "execution_count": null,
   "id": "1bee637f",
   "metadata": {},
   "outputs": [
    {
     "data": {
      "application/vnd.jupyter.widget-view+json": {
       "model_id": "7d076040e982462cb6b3f16fa5775f4e",
       "version_major": 2,
       "version_minor": 0
      },
      "text/plain": [
       "BoundedIntText(value=1, description='Enter the matchday: ', max=38, min=1)"
      ]
     },
     "metadata": {},
     "output_type": "display_data"
    },
    {
     "data": {
      "application/vnd.jupyter.widget-view+json": {
       "model_id": "bdc24e3c194a4888bac02139f1bc3f43",
       "version_major": 2,
       "version_minor": 0
      },
      "text/plain": [
       "Dropdown(description='Select the kickoff time: ', options=('20:00', '12:30', '15:00', '17:30', '14:00', '16:30…"
      ]
     },
     "metadata": {},
     "output_type": "display_data"
    },
    {
     "data": {
      "application/vnd.jupyter.widget-view+json": {
       "model_id": "2a737e4eda6845e48dcd85038bf29a36",
       "version_major": 2,
       "version_minor": 0
      },
      "text/plain": [
       "Dropdown(description='Select the home team: ', options=('Crystal Palace', 'Fulham', 'Tottenham', 'Newcastle Ut…"
      ]
     },
     "metadata": {},
     "output_type": "display_data"
    },
    {
     "data": {
      "application/vnd.jupyter.widget-view+json": {
       "model_id": "c298cd6b901b4dcd8d927e0efe4d4e9c",
       "version_major": 2,
       "version_minor": 0
      },
      "text/plain": [
       "Dropdown(description='Select the away team: ', options=('Arsenal', 'Liverpool', 'Southampton', \"Nott'ham Fores…"
      ]
     },
     "metadata": {},
     "output_type": "display_data"
    },
    {
     "data": {
      "application/vnd.jupyter.widget-view+json": {
       "model_id": "b721d82aac8647d98d9f896614ec9716",
       "version_major": 2,
       "version_minor": 0
      },
      "text/plain": [
       "Dropdown(description='Select the referee: ', options=('Anthony Taylor', 'Andy Madley', 'Andre Marriner', 'Simo…"
      ]
     },
     "metadata": {},
     "output_type": "display_data"
    },
    {
     "data": {
      "application/vnd.jupyter.widget-view+json": {
       "model_id": "48898a57fdc843c7b98e5f0bd597649a",
       "version_major": 2,
       "version_minor": 0
      },
      "text/plain": [
       "Dropdown(description='Select the stadium: ', options=('Selhurst Park', 'Craven Cottage', 'Tottenham Hotspur St…"
      ]
     },
     "metadata": {},
     "output_type": "display_data"
    },
    {
     "data": {
      "application/vnd.jupyter.widget-view+json": {
       "model_id": "da8b637e9e534957837ca882da695780",
       "version_major": 2,
       "version_minor": 0
      },
      "text/plain": [
       "BoundedIntText(value=0, description='Enter the number of points the home team had before the match: ', max=111…"
      ]
     },
     "metadata": {},
     "output_type": "display_data"
    },
    {
     "data": {
      "application/vnd.jupyter.widget-view+json": {
       "model_id": "fced9f313e5842d4a3d1f91ca1d129bf",
       "version_major": 2,
       "version_minor": 0
      },
      "text/plain": [
       "BoundedIntText(value=0, description='Enter the number of points the away team had before the match: ', max=111…"
      ]
     },
     "metadata": {},
     "output_type": "display_data"
    },
    {
     "data": {
      "application/vnd.jupyter.widget-view+json": {
       "model_id": "07895409554c4975b781564ab85ab4ba",
       "version_major": 2,
       "version_minor": 0
      },
      "text/plain": [
       "Button(description='Predict winner', style=ButtonStyle())"
      ]
     },
     "metadata": {},
     "output_type": "display_data"
    },
    {
     "data": {
      "application/vnd.jupyter.widget-view+json": {
       "model_id": "a20cc9e5a06748d298b688bba4d42985",
       "version_major": 2,
       "version_minor": 0
      },
      "text/plain": [
       "Output()"
      ]
     },
     "metadata": {},
     "output_type": "display_data"
    }
   ],
   "source": [
    "# Creating an interactive widget\n",
    "\n",
    "import ipywidgets as widgets\n",
    "import warnings\n",
    "from IPython.display import display, clear_output\n",
    "\n",
    "warnings.filterwarnings(\"ignore\")\n",
    "\n",
    "matchday = widgets.BoundedIntText(value=1, min=1, max=38, description=\"Enter the matchday: \")\n",
    "# date = widgets.(description=\"Select the date: \")\n",
    "time = widgets.Dropdown(options=matchData[\"Time\"].unique().tolist(), description=\"Select the kickoff time: \")\n",
    "homeTeam = widgets.Dropdown(options=matchData[\"Home Team\"].unique().tolist(), description=\"Select the home team: \")\n",
    "awayTeam = widgets.Dropdown(options=matchData[\"Away Team\"].unique().tolist(), description=\"Select the away team: \")\n",
    "ref = widgets.Dropdown(options=matchData[\"Referee\"].unique().tolist(), description=\"Select the referee: \")\n",
    "stadium = widgets.Dropdown(options=matchData[\"Stadium\"].unique().tolist(), description=\"Select the stadium: \")\n",
    "prevHomePoints = widgets.BoundedIntText(value=0, min=0, max=111, description=\"Enter the number of points the home team had before the match: \")\n",
    "prevAwayPoints = widgets.BoundedIntText(value=0, min=0, max=111, description=\"Enter the number of points the away team had before the match: \")\n",
    "\n",
    "predictButton = widgets.Button(description=\"Predict winner\")\n",
    "\n",
    "def predict_outcome(b):\n",
    "    with output:\n",
    "        clear_output()\n",
    "\n",
    "        decodedTime = qualColEncoders[\"Time\"].transform([time.value])[0]\n",
    "        decodedHomeTeam = qualColEncoders[\"Home Team\"].transform([homeTeam.value])[0]\n",
    "        decodedAwayTeam = qualColEncoders[\"Away Team\"].transform([awayTeam.value])[0]\n",
    "        decodedReferee = qualColEncoders[\"Referee\"].transform([ref.value])[0]\n",
    "        decodedStadium = qualColEncoders[\"Stadium\"].transform([stadium.value])[0]\n",
    "\n",
    "        input = np.array([matchday.value, decodedTime, decodedHomeTeam, decodedAwayTeam, decodedReferee, decodedStadium, prevHomePoints.value, prevAwayPoints.value])\n",
    "        input = input.reshape(1,8)\n",
    "        input = scaler.transform(input)\n",
    "\n",
    "        predictedProbs = model.predict(input)\n",
    "        predictedClass = np.argmax(predictedProbs, axis=1)[0]\n",
    "        originalLabels = list(resultMapping.keys())\n",
    "        predictedOutcome = originalLabels[predictedClass]\n",
    "\n",
    "        resultToTeamMapping = {\"D\": \"Draw\", \"A\": awayTeam.value, \"H\": homeTeam.value}\n",
    "\n",
    "        print(\"Result probabilities: \")\n",
    "        for i, label in enumerate(originalLabels):\n",
    "            print(f\"{resultToTeamMapping[label]}: {predictedProbs[0][i]:.4f}\")\n",
    "        print(f\"\\nPredicted winner: {resultToTeamMapping[predictedOutcome]}\")\n",
    "\n",
    "predictButton.on_click(predict_outcome)\n",
    "output = widgets.Output()\n",
    "display(matchday, time, homeTeam, awayTeam, ref, stadium, prevHomePoints, prevAwayPoints, predictButton, output)"
   ]
  }
 ],
 "metadata": {
  "kernelspec": {
   "display_name": "base",
   "language": "python",
   "name": "python3"
  },
  "language_info": {
   "codemirror_mode": {
    "name": "ipython",
    "version": 3
   },
   "file_extension": ".py",
   "mimetype": "text/x-python",
   "name": "python",
   "nbconvert_exporter": "python",
   "pygments_lexer": "ipython3",
   "version": "3.12.7"
  }
 },
 "nbformat": 4,
 "nbformat_minor": 5
}
